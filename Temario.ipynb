{
 "cells": [
  {
   "cell_type": "markdown",
   "id": "f041e880-5094-4821-acce-51b8351619c2",
   "metadata": {},
   "source": [
    "# Temario\n",
    "\n",
    "1. Git y Github\n",
    "2. Entorno Devcloud\n",
    "3. Ejercicio de Aplicación: MandelBrot"
   ]
  }
 ],
 "metadata": {
  "kernelspec": {
   "display_name": "Python 3 (Intel® oneAPI 2023.1)",
   "language": "python",
   "name": "c009-intel_distribution_of_python_3_oneapi-beta05-python"
  },
  "language_info": {
   "codemirror_mode": {
    "name": "ipython",
    "version": 3
   },
   "file_extension": ".py",
   "mimetype": "text/x-python",
   "name": "python",
   "nbconvert_exporter": "python",
   "pygments_lexer": "ipython3",
   "version": "3.9.16"
  }
 },
 "nbformat": 4,
 "nbformat_minor": 5
}
