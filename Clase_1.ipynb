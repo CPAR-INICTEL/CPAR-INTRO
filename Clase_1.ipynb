{
 "cells": [
  {
   "cell_type": "markdown",
   "id": "52475834-7f44-4c1a-bbd2-d523134ea9ce",
   "metadata": {
    "tags": []
   },
   "source": [
    "# Nociones básicas de git"
   ]
  },
  {
   "cell_type": "markdown",
   "id": "897ccb61-635f-43cc-9f59-fdf64c2ccd6e",
   "metadata": {},
   "source": [
    "## Control de versiones\n",
    "\n",
    "Sistema que hace seguimiento a cada modificación o cambio en un:\n",
    "\n",
    "- Códigos\n",
    "- Algoritmos\n",
    "- Servidores de IT\n",
    "- Websites\n",
    "- Documentos"
   ]
  },
  {
   "cell_type": "markdown",
   "id": "a9cd3db5-8864-475f-b2b0-ae1740797ebe",
   "metadata": {
    "tags": []
   },
   "source": [
    "## Esquema simple de GIT\n",
    "\n",
    "Existen repositorios locales y remotos. El trabajo en repositorios locales puede ser offline y ambos repositorios deben estar sincronizados.\n",
    "\n",
    "![alt text](esquema.png)\n",
    "\n",
    "Este flujo de trabajo puede ser para cualquier tipo de control de version y tambien funciona para git. Cada miembro del equipo de trabajo tiene una copia del proyecto en su repositorio local pero la versión oficial y de referencia del proyecto se almacena en un repositorio remoto que puede ser GitHub, GitLab, etc, de donde se puede copiar el proyecto a otros miembros."
   ]
  },
  {
   "cell_type": "markdown",
   "id": "fb795a00-75b4-40c1-9866-1e9c5ac79bf7",
   "metadata": {
    "tags": []
   },
   "source": [
    "## Interfaces de GIT\n",
    "\n",
    "Hay dos interfaces que se pueden usar en los repositorios locales. La línea de comando, usada más frecuentemente en el área de IT y el una versión GUI llamada Sourcetree que suele ser más amigable para el usuario. \n",
    "\n",
    "![alt text](interface.png)"
   ]
  },
  {
   "cell_type": "markdown",
   "id": "523daacb-eb2c-465c-a5ba-b99cfa6c5a1b",
   "metadata": {},
   "source": [
    "## Instalación de GIT\n",
    "\n",
    "Paso 1: verificar si se tiene instalado GIT [git --version]\n",
    "\n",
    "![alt text](instalacion.png)\n",
    "\n",
    "Paso 2: Si no está instalado, podemos ingresar a la siguiente web [Git-instalar](https://git-scm.com/downloads)."
   ]
  },
  {
   "cell_type": "markdown",
   "id": "4cae4150-f98f-40bd-a0d3-e1125b729f4c",
   "metadata": {},
   "source": [
    "## Locaciones de git\n",
    "\n",
    "Para manejar git, hay algunos componentes importantes que debemos conocer y nos permitirán entender mejor cómo funciona Git. El primer elemento es el llamado **working tree**, es el ambiente donde nosotros trabajamos y tenemos los archivos que vamos a guardar mediante el comando *commit*. Una vez que tenemos idea de lo que vamos a guardar, pasamos al **área de preparación** que incluye todos los archivos a ser incluidos en el *commit*. Por ejemplo, algunas veces modificamos dos archivos que están relacionados y los queremos guardar juntos, entonces pensaremos en un commit que incluya los dos archivos y no dos commits por separado. Luego, todos los commits de un proyecto se almacenan en el **repositorio local** que esta en nuestra computadora local y estos tres elementos forman parte del **área personal** del proyecto. Finalmente, el almacenamiento final del proyecto se realiza en la nube o algun **repositorio remoto** como **GitLab**, **GitHub** que se considera que contiene el proyecto completo y es nuestra fuente de consulta del proyecto en caso se necesite de una referencia. La idea es tener nuestro repositorio local y global sincronizado.\n",
    "\n",
    "![alt text](git_loc.png)"
   ]
  },
  {
   "cell_type": "markdown",
   "id": "b1838051-ff96-40d8-be4b-c64bf905a8cc",
   "metadata": {},
   "source": [
    "## Pasos iniciales\n",
    "\n",
    "1. Verificar si **git** está instalado en tu sistema. Para ello, abrir la línea de comando y escribir: `git --version`\n",
    "2. Instalar **git**, si fuese necesario. Dependiendo de tu sistema operativo, puedes elegir entre una de las opciones disponibles en [git-scm.com](https://git-scm.com/downloads). (Nota: para windows users, aceptar todas las opciones marcadas por default)."
   ]
  },
  {
   "cell_type": "markdown",
   "id": "7c53f1b4-a865-408d-8dc7-fbf47f3cc9b9",
   "metadata": {},
   "source": [
    "## Comandos claves en git\n",
    "\n",
    "1. `git init`: crea nuestro repositorio\n",
    "2. `git status`: muestra el status del repositorio. Nos permite observar qué cambios se han realizado, qué nuevos archivos no están siendo parte del sistema de control, etc\n",
    "3. `git add .`: añade todos los archivos que hayan tenido cambios durante nuestra sesión de trabajo al área de preparación\n",
    "4. `git commit`: crea un foto instantánea de nuestro repositorio en un momento específico. Con un commit, nosotros guardamos la historia del repositorio. Lo ideal es hacer commits de lo que uno quiera guardar y de manera frecuente\n",
    "5. `git push`: guardar lo creado/modificado en el repositorio local hacia el repositorio global. El repositorio global almacena nuestro trabajo en la nube y es como el repositorio de referencia. Los proveedores de repositorios globales son: GitLab, GitHub, Bitbucket, entre otros\n",
    "6. `git pull`: actualizar el repositorio local con respecto al global"
   ]
  },
  {
   "cell_type": "markdown",
   "id": "e5b41dc1-a749-4ba5-bfc7-53a4a7a03fb0",
   "metadata": {},
   "source": [
    "## Referencias:\n",
    " \n",
    " - https://www.atlassian.com/git/tutorials/learn-git-with-bitbucket-cloud\n",
    " - https://git-scm.com/docs\n",
    " - https://www.intel.com/content/www/us/en/developer/videos/what-is-the-intel-devcloud.html#gs.q2hz4q\n",
    " - https://devcloud.intel.com/oneapi/documentation/connect-with-ssh-windows-cygwin"
   ]
  }
 ],
 "metadata": {
  "kernelspec": {
   "display_name": "Python 3 (Intel® oneAPI 2023.1)",
   "language": "python",
   "name": "c009-intel_distribution_of_python_3_oneapi-beta05-python"
  },
  "language_info": {
   "codemirror_mode": {
    "name": "ipython",
    "version": 3
   },
   "file_extension": ".py",
   "mimetype": "text/x-python",
   "name": "python",
   "nbconvert_exporter": "python",
   "pygments_lexer": "ipython3",
   "version": "3.9.16"
  }
 },
 "nbformat": 4,
 "nbformat_minor": 5
}
