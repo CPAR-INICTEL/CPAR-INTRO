{
 "cells": [
  {
   "cell_type": "markdown",
   "id": "01d67f77-f38f-42cb-adcf-fab42c9402a9",
   "metadata": {},
   "source": [
    "# Clase práctica III: Ejercicios de Aplicación"
   ]
  },
  {
   "cell_type": "markdown",
   "id": "ac9a6508-5db5-4766-9938-14f8b5d6df04",
   "metadata": {},
   "source": [
    "## Conceptos previos\n",
    "\n",
    "- Speedup: Medida del rendimiento relativo entre dos arquitecturas o estrategias de paralelización para ejecutar un mismo problema\n",
    "\n",
    "$$Speedup = \\frac{T_{base}}{T_{optimizado}}$$\n",
    "\n",
    "- SIMD (Single Instruction Multiple Data) o Vectorización: Ejecución de una misma instrucción sobre distintos datos en varias unidades de procesamiento"
   ]
  },
  {
   "cell_type": "markdown",
   "id": "2d4fd65d-9659-47e2-bfe1-d738c157c53f",
   "metadata": {},
   "source": [
    "## Ejercicio 1: Calcular el Speedup"
   ]
  },
  {
   "cell_type": "markdown",
   "id": "2cb5f49b-1669-4e9b-9ff1-008866b7298e",
   "metadata": {},
   "source": [
    "### A. Calcular el tiempo de ejecución base ($T_{base}$)"
   ]
  },
  {
   "cell_type": "markdown",
   "id": "0874fb63-abbd-4409-9a45-edd46cd5ec78",
   "metadata": {},
   "source": [
    "- El siguiente ejercicio presenta una suma y multiplicación de dos vectores (`v1` y `v2`) producidos de forma aleatoria y definidos como punto flotante en las líneas 11-21. \n",
    "- El tamaño de los vectores (`vsize`) es 1000 y vamos a repetir la multiplicación 200 veces (`repetitions`). \n",
    "- Guardamos el resultado de la suma y la multiplicación en los vectores `v3` y `v4` que son primero producidos en las líneas 25-27.\n",
    "- La suma y multiplicación de los vectores `v1` y `v2` se ejecuta en las líneas 33-35.\n",
    "- En las líneas 37-38 visualizamos el valor de los vectores `v3` y `v4` mediante el comando `std::cout`."
   ]
  },
  {
   "cell_type": "markdown",
   "id": "eb412c5a-4f74-405c-8b10-6f2d211826b8",
   "metadata": {},
   "source": [
    "1. **Paso 1**: Creamos el archivo vector.cpp"
   ]
  },
  {
   "cell_type": "code",
   "execution_count": 41,
   "id": "bd205a60-1712-4387-97a9-e2f620463edf",
   "metadata": {},
   "outputs": [
    {
     "name": "stdout",
     "output_type": "stream",
     "text": [
      "Overwriting vector.cpp\n"
     ]
    }
   ],
   "source": [
    "%%writefile vector.cpp\n",
    "#include <cstdio>\n",
    "#include <vector>\n",
    "#include <stdlib.h>\n",
    "#include <iostream>\n",
    "\n",
    "int main(){\n",
    "\n",
    "        int repetitions = 200;\n",
    "        int vsize = 1000;\n",
    "\n",
    "        std::vector<float> v1(vsize);\n",
    "        std::vector<float> v2(vsize);\n",
    "\n",
    "        std::cout << \"Entrada: \\n\";\n",
    "\n",
    "        for (size_t i = 0; i < vsize; i++) {\n",
    "                v1[i] = static_cast<float>((rand() % vsize)) / vsize;\n",
    "                v2[i] = static_cast<float>((rand() % vsize)) / vsize;\n",
    "                std::cout << \"v1[\" << i << \"] = \" << v1[i] << \"\\n\";\n",
    "                std::cout << \"v2[\" << i << \"] = \" << v2[i] << \"\\n\";\n",
    "        }\n",
    "\n",
    "//      #pragma omp parallel for\n",
    "//      #pragma omp parallel      \n",
    "        for(size_t j = 0; j < repetitions; j++){\n",
    "                std::vector<float> v3(vsize);\n",
    "                std::vector<float> v4(vsize);\n",
    "\n",
    "                std::cout << \"Repeticion #\" << j << \"\\n\";\n",
    "\n",
    "                // Add and multiply random vectors\n",
    "//              #pragma omp simd\n",
    "                for(size_t i = 0; i < vsize; i++){\n",
    "                      v3[i] = v1[i] + v2[i];\n",
    "                      v4[i] = v1[i] * v2[i];\n",
    "                      std::cout << \"v3[\" << i << \"] = \" << v3[i] << \"\\n\";\n",
    "                      std::cout << \"v4[\" << i << \"] = \" << v4[i] << \"\\n\";\n",
    "                }\n",
    "        }\n",
    "\n",
    "        return 0;\n",
    "}"
   ]
  },
  {
   "cell_type": "markdown",
   "id": "8d1683b9-b6bf-4144-825b-606e01254f56",
   "metadata": {},
   "source": [
    "2. **Paso 2**: Creamos el archivo compilador"
   ]
  },
  {
   "cell_type": "code",
   "execution_count": 24,
   "id": "b1916d12-c65b-443e-b784-682f6e3cbe13",
   "metadata": {},
   "outputs": [
    {
     "name": "stdout",
     "output_type": "stream",
     "text": [
      "Overwriting compi_vector.pbs\n"
     ]
    }
   ],
   "source": [
    "%%writefile compi_vector.pbs\n",
    "#PBS -S /bin/bash\n",
    "#PBS -N compi_base\n",
    "#PBS -l nodes=1,walltime=00:10:00\n",
    "dpcpp -o /home/u196481/CPAR-INTRO/compi_base /home/u196481/CPAR-INTRO/vector.cpp\n",
    "/home/u196481/CPAR-INTRO/compi_base"
   ]
  },
  {
   "cell_type": "markdown",
   "id": "2231d7e4-eec3-485d-9492-c5ff0cb671b4",
   "metadata": {},
   "source": [
    "3. **Paso 3**: Ejecutamos el job, comprobamos si está corriendo y vemos el contenido del archivo _o.xxxx_ cuando haya terminado de ejecutar"
   ]
  },
  {
   "cell_type": "code",
   "execution_count": 25,
   "id": "0f67cdca-acbf-46cd-b787-6357d0c59a18",
   "metadata": {},
   "outputs": [
    {
     "name": "stdout",
     "output_type": "stream",
     "text": [
      "2345342.v-qsvr-1.aidevcloud\n"
     ]
    }
   ],
   "source": [
    "!qsub compi_vector.pbs"
   ]
  },
  {
   "cell_type": "code",
   "execution_count": 30,
   "id": "0851f1cb-d242-40f2-add4-cbcd7515ea2e",
   "metadata": {},
   "outputs": [
    {
     "name": "stdout",
     "output_type": "stream",
     "text": [
      "Job ID                    Name             User            Time Use S Queue\n",
      "------------------------- ---------------- --------------- -------- - -----\n",
      "2345330.v-qsvr-1           ...ub-singleuser u196481         00:00:25 R jupyterhub     \n",
      "2345342.v-qsvr-1           compi_base       u196481                0 Q batch          \n"
     ]
    }
   ],
   "source": [
    "!qstat"
   ]
  },
  {
   "cell_type": "code",
   "execution_count": 31,
   "id": "b7f79165-b39d-442d-acfc-efde78fadcf3",
   "metadata": {},
   "outputs": [],
   "source": [
    "!qdel 2345342.v-qsvr-1.aidevcloud"
   ]
  },
  {
   "cell_type": "markdown",
   "id": "ab1cab30-8a58-47b3-8920-425aac5bb8a9",
   "metadata": {},
   "source": [
    "3. **Paso alternativo**: En caso el job demore mucho en ejecutar, podemos hacer uso de nuestro nodo ya habilitado por DevCloud al momento de abrir Jupyter Notebook. Para ello usamos la función siguiente directamente en el terminal:\n",
    "\n",
    "`dpcpp -o /home/u196481/CPAR-INTRO/compi_base /home/u196481/CPAR-INTRO/vector.cpp`\n",
    "\n",
    "En el terminal, vamos a observar algo similar al output en el archivo de extensión _o.xxxx_ luego de subir un job:\n",
    "\n",
    "![alt text](vector_1.png)\n"
   ]
  },
  {
   "cell_type": "markdown",
   "id": "0c379666-2d51-4646-841e-626586954f7e",
   "metadata": {},
   "source": [
    "4. **Paso 4**: Para ver el tiempo base, es decir el tiempo que demora el algoritmo sin ningún tipo de paralelización, usamos el comando siguiente en el terminal:\n",
    "\n",
    "`time ./compi_base`\n",
    "\n",
    "Finalmente guardamos el tiempo de usuario: *User time = 0.424s*\n",
    "\n",
    "![alt text](vector_2a.png)"
   ]
  },
  {
   "cell_type": "markdown",
   "id": "f2140fb2-5d6a-41c3-97a5-70c3bf0fbc37",
   "metadata": {},
   "source": [
    "### B. Calcular el tiempo optimizado 1 ($T^1_{optimizado}$)"
   ]
  },
  {
   "cell_type": "markdown",
   "id": "673efcbd-66cd-4181-9720-38a45279bdee",
   "metadata": {},
   "source": [
    "- El siguiente ejercicio presenta el mismo código que `vector.cpp` con la diferencia que estamos activando el la opción `#pragma omp parallel for` (paralelización por _threads_ o hilos) en la línea 23. \n",
    "- El objetivo es ver el incremento del rendimiento debido a una paralelización por threads para este ejemplo simple. \n",
    "- Para ello, tenemos que ejecutar los mismos pasos anteriores"
   ]
  },
  {
   "cell_type": "code",
   "execution_count": 39,
   "id": "578c8e71-a451-4d0d-8f42-a3dd2df9e6fd",
   "metadata": {},
   "outputs": [
    {
     "name": "stdout",
     "output_type": "stream",
     "text": [
      "Overwriting vector2.cpp\n"
     ]
    }
   ],
   "source": [
    "%%writefile vector2.cpp\n",
    "#include <cstdio>\n",
    "#include <vector>\n",
    "#include <stdlib.h>\n",
    "#include <iostream>\n",
    "\n",
    "int main(){\n",
    "\n",
    "        int repetitions = 200;\n",
    "        int vsize = 1000;\n",
    "\n",
    "        std::vector<float> v1(vsize);\n",
    "        std::vector<float> v2(vsize);\n",
    "\n",
    "        std::cout << \"Entrada: \\n\";\n",
    "\n",
    "        for (size_t i = 0; i < vsize; i++) {\n",
    "                v1[i] = static_cast<float>((rand() % vsize)) / vsize;\n",
    "                v2[i] = static_cast<float>((rand() % vsize)) / vsize;\n",
    "                std::cout << \"v1[\" << i << \"] = \" << v1[i] << \"\\n\";\n",
    "                std::cout << \"v2[\" << i << \"] = \" << v2[i] << \"\\n\";\n",
    "        }\n",
    "\n",
    "        #pragma omp parallel for\n",
    "//      #pragma omp parallel      \n",
    "        for(size_t j = 0; j < repetitions; j++){\n",
    "                std::vector<float> v3(vsize);\n",
    "                std::vector<float> v4(vsize);\n",
    "\n",
    "                std::cout << \"Repeticion #\" << j << \"\\n\";\n",
    "\n",
    "                // Add and multiply random vectors\n",
    "//              #pragma omp simd\n",
    "                for(size_t i = 0; i < vsize; i++){\n",
    "                      v3[i] = v1[i] + v2[i];\n",
    "                      v4[i] = v1[i] * v2[i];\n",
    "                      std::cout << \"v3[\" << i << \"] = \" << v3[i] << \"\\n\";\n",
    "                      std::cout << \"v4[\" << i << \"] = \" << v4[i] << \"\\n\";\n",
    "                }\n",
    "        }\n",
    "\n",
    "        return 0;\n",
    "}"
   ]
  },
  {
   "cell_type": "markdown",
   "id": "a64b95d4-02b1-455c-8d0f-134c00bb6114",
   "metadata": {},
   "source": [
    "#### Ejecutar la función:\n",
    "\n",
    "`dpcpp -o /home/u196481/CPAR-INTRO/compi_T1 /home/u196481/CPAR-INTRO/vector2.cpp`\n",
    "\n",
    "y luego ejecutar el siguiente programa y guardar el tiempo de usuario: 0.295\n",
    "\n",
    "`time ./compi_T1`\n",
    "\n",
    "![alt text](vector_3a.png)"
   ]
  },
  {
   "cell_type": "markdown",
   "id": "1f40030f-561e-4b85-ba86-c922a7e696bd",
   "metadata": {},
   "source": [
    "### C. Calcular el tiempo optimizado 2 ($T^2_{optimizado}$)"
   ]
  },
  {
   "cell_type": "markdown",
   "id": "5ef2d040-af5a-4d09-b61c-a230b0835dd3",
   "metadata": {},
   "source": [
    "- El siguiente ejercicio presenta el mismo código que `vector.cpp` con la diferencia que estamos activando el la opción `#pragma omp simd` (paralelización por instrucciones SIMD) en la línea 32. \n",
    "- El objetivo es ver el incremento del rendimiento debido a una paralelización por instrucciones SIMD. \n",
    "- Para ello, tenemos que ejecutar los mismos pasos anteriores"
   ]
  },
  {
   "cell_type": "code",
   "execution_count": 40,
   "id": "8c9ef5bc-ac67-4f03-a805-5ad1f712f0e2",
   "metadata": {},
   "outputs": [
    {
     "name": "stdout",
     "output_type": "stream",
     "text": [
      "Overwriting vector3.cpp\n"
     ]
    }
   ],
   "source": [
    "%%writefile vector3.cpp\n",
    "#include <cstdio>\n",
    "#include <vector>\n",
    "#include <stdlib.h>\n",
    "#include <iostream>\n",
    "\n",
    "int main(){\n",
    "\n",
    "        int repetitions = 200;\n",
    "        int vsize = 1000;\n",
    "\n",
    "        std::vector<float> v1(vsize);\n",
    "        std::vector<float> v2(vsize);\n",
    "\n",
    "        std::cout << \"Entrada: \\n\";\n",
    "\n",
    "        for (size_t i = 0; i < vsize; i++) {\n",
    "                v1[i] = static_cast<float>((rand() % vsize)) / vsize;\n",
    "                v2[i] = static_cast<float>((rand() % vsize)) / vsize;\n",
    "                std::cout << \"v1[\" << i << \"] = \" << v1[i] << \"\\n\";\n",
    "                std::cout << \"v2[\" << i << \"] = \" << v2[i] << \"\\n\";\n",
    "        }\n",
    "\n",
    "//      #pragma omp parallel for\n",
    "//      #pragma omp parallel      \n",
    "        for(size_t j = 0; j < repetitions; j++){\n",
    "                std::vector<float> v3(vsize);\n",
    "                std::vector<float> v4(vsize);\n",
    "\n",
    "                std::cout << \"Repeticion #\" << j << \"\\n\";\n",
    "\n",
    "                // Add and multiply random vectors\n",
    "                #pragma omp simd\n",
    "                for(size_t i = 0; i < vsize; i++){\n",
    "                      v3[i] = v1[i] + v2[i];\n",
    "                      v4[i] = v1[i] * v2[i];\n",
    "                      std::cout << \"v3[\" << i << \"] = \" << v3[i] << \"\\n\";\n",
    "                      std::cout << \"v4[\" << i << \"] = \" << v4[i] << \"\\n\";\n",
    "                }\n",
    "        }\n",
    "\n",
    "        return 0;\n",
    "}"
   ]
  },
  {
   "cell_type": "markdown",
   "id": "cd5ead26-f321-4c60-ab9f-49cab4d7e056",
   "metadata": {},
   "source": [
    "#### Ejecutar la función:\n",
    "\n",
    "`dpcpp -o /home/u196481/CPAR-INTRO/compi_T2 /home/u196481/CPAR-INTRO/vector3.cpp`\n",
    "\n",
    "y luego ejecutar el siguiente programa y guardar el tiempo de usuario: 0.021\n",
    "\n",
    "`time ./compi_T2`\n",
    "\n",
    "![alt text](vector_4a.png)"
   ]
  },
  {
   "cell_type": "markdown",
   "id": "641ede7d-50cd-4e38-a924-68555fee1ce6",
   "metadata": {},
   "source": [
    "### D. Calcular el Speedup1 y Speedup2 "
   ]
  },
  {
   "cell_type": "markdown",
   "id": "8a8d2231-ef28-4f40-84c8-39e08e03142e",
   "metadata": {},
   "source": [
    "$Speedup1 = \\frac{T_{base}}{T^1_{optimizado}}$ = $\\frac{0.424}{0.295}$ = $1.43$"
   ]
  },
  {
   "cell_type": "markdown",
   "id": "1caf6ef0-03df-418e-8b6c-327331be56c3",
   "metadata": {},
   "source": [
    "$Speedup2 = \\frac{T_{base}}{T^2_{optimizado}}$ = $\\frac{0.424}{0.353}$ = $1.20$"
   ]
  },
  {
   "cell_type": "markdown",
   "id": "c7d577e6-bfef-4060-a43c-71bc320a45c3",
   "metadata": {},
   "source": [
    "- Ambas alternativas ofrecen una mejora en la performancia de nuestro algoritmo. \n",
    "- En cursos posteriores nosotros veremos otras herramientas *Vtune* y *Advisor* que nos pueden ayudar a optimizar nuestros algoritmos de manera mucho más eficiente. "
   ]
  }
 ],
 "metadata": {
  "kernelspec": {
   "display_name": "Python 3 (Intel® oneAPI 2023.1)",
   "language": "python",
   "name": "c009-intel_distribution_of_python_3_oneapi-beta05-python"
  },
  "language_info": {
   "codemirror_mode": {
    "name": "ipython",
    "version": 3
   },
   "file_extension": ".py",
   "mimetype": "text/x-python",
   "name": "python",
   "nbconvert_exporter": "python",
   "pygments_lexer": "ipython3",
   "version": "3.9.16"
  }
 },
 "nbformat": 4,
 "nbformat_minor": 5
}
