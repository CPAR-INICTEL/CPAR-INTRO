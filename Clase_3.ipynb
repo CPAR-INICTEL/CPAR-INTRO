{
 "cells": [
  {
   "cell_type": "markdown",
   "id": "01d67f77-f38f-42cb-adcf-fab42c9402a9",
   "metadata": {},
   "source": [
    "# Clase práctica III: Ejercicios de Aplicación"
   ]
  },
  {
   "cell_type": "code",
   "execution_count": null,
   "id": "e44e45e9-c004-460f-99bf-12678c292e7f",
   "metadata": {},
   "outputs": [],
   "source": []
  }
 ],
 "metadata": {
  "kernelspec": {
   "display_name": "Python 3 (Intel® oneAPI 2023.1)",
   "language": "python",
   "name": "c009-intel_distribution_of_python_3_oneapi-beta05-python"
  },
  "language_info": {
   "codemirror_mode": {
    "name": "ipython",
    "version": 3
   },
   "file_extension": ".py",
   "mimetype": "text/x-python",
   "name": "python",
   "nbconvert_exporter": "python",
   "pygments_lexer": "ipython3",
   "version": "3.9.16"
  }
 },
 "nbformat": 4,
 "nbformat_minor": 5
}
