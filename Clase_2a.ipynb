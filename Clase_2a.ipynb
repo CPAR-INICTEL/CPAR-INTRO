{
 "cells": [
  {
   "cell_type": "markdown",
   "id": "969f71eb-d772-4b39-a506-17f80da96433",
   "metadata": {},
   "source": [
    "# Introducción a DevCloud"
   ]
  },
  {
   "cell_type": "markdown",
   "id": "b3219fff-524a-4919-9eda-8f1d7dcf747f",
   "metadata": {},
   "source": [
    "El objetivo de la computación paralela es acelerar procesos. Por ejemplo, tengo un algoritmo que corre completamente en un día y si lo paralelizo, puede acelerar mi algoritmo y correrlo todo en 5 horas. Sin embargo, la medida en la que podemos acelerar los procesos también depende de la capacidad del hardware y para ello se puede contar con clusters o servidores con varias computadoras con una mayor capacidad comparada a nuestra computadora local. Uno de ellos es **Intel® DevCloud**. Alternativas a **DevCloud** pueden encontrase en el siguiente enlace [HPC](https://sourceforge.net/software/product/Intel-DevCloud/alternatives). En Perú, una alternativa interesante la ofrece el **IIAP** o **Instituto de Investigaciones de la Amazonía Peruana** y puede encontrase aquí [MANATI](http://www.iiap.gob.pe/web/manati.aspx/).\n",
    "\n",
    "**DevCloud** es un sistema de desarrollo software que ofrece acceso a 1) hardware de alta performancia como CPUs, GPUs, FPGAs y 2) software de desarrollo y optimizacion para nuestras aplicaciones. El primer paso es crear una cuenta en **DevCloud**. Para ello ir a [Intel Login](https://consumer.intel.com/intelcorpb2c.onmicrosoft.com/B2C_1A_UnifiedLogin_SISU_CML_SAML/generic/login?entityId=www.intel.com&ui_locales=en). Una vez enviada nuestra solicitud de acceso, vamos a recibir nuestro código de usuario e instrucciones para configurar nuestro acceso a **DevCloud**. Para usuarios de *Windows*, podemos instalar la aplicación [MobaXterm](https://mobaxterm.mobatek.net/download-home-edition.html).\n",
    "\n",
    "![alt text](./Figures/hpc.png)"
   ]
  },
  {
   "cell_type": "markdown",
   "id": "8cc55765-0d24-4195-8950-dcda2de9d2cf",
   "metadata": {},
   "source": [
    "## Conectarse a DevCloud\n",
    "\n",
    "Antes de poder acceder al sistema, debemos configurarlo de la siguiente forma:\n",
    "\n",
    "1. Primero visitar [devcloud.intel.connect](https://devcloud.intel.com/oneapi/documentation/connect-with-ssh-windows-cygwin/) y usar sus credenciales (nombre de usuario y password) para iniciar sesión.\n",
    "2. En la página seguir los pasos para la instalación automática o manual dependiendo del sistema operativo (Linux, Mac o Windows)\n",
    "\n",
    "![alt text](./Figures/install_1.png)\n",
    "\n",
    "3. En Linux y Mac, la instalación se realiza a través de la línea de comando y es un poco más directo. En el caso de Windows, primero se debe usar alguna herramienta para \"imitar\" el sistema UNIX. DevCloud recomienda usar **Cygwin**. DevCloud nos ofrece dos opciones, usar la más conveniente:\n",
    "\n",
    "![alt text](./Figures/install_2.png)\n",
    "\n",
    "4. En síntesis, se debe descargar y guardar el archivo `setup-devcloud-access-196481.txt`:\n",
    "\n",
    "![alt text](./Figures/install_3.png)\n",
    "\n",
    "buscar su ubicación en la línea de comando o *MobaXterm*: \n",
    "\n",
    "![alt text](./Figures/install_4.png)\n",
    "\n",
    "y ejecutarlo con la función `bash`:\n",
    "\n",
    "![alt text](./Figures/install_5.png)\n",
    "\n",
    "5. Nota: DevCloud nos da acceso a su plataforma por un periodo de 3 meses y luego debemos reactivar nuestra cuenta. Al hacerlo, vamos a recibir otro código de acceso y podemos tener problemas al acceder a DevCloud aún hayamos ejecutado la función `bash`. Para ello, podemos usar el comando `nano ~/.ssh/config` y actualizar en forma manual nuestro código de usario dónde sea necesario:\n",
    "\n",
    "![alt text](./Figures/install_6.png)\n",
    "\n",
    "6. Una vez hecho eso ya podemos ingresar a DevCloud por la línea de comando ejecutando el comando `ssh devcloud`:\n",
    "\n",
    "![alt text](./Figures/install_7.png)\n"
   ]
  },
  {
   "cell_type": "markdown",
   "id": "db84587a-37ea-4f0d-8a1a-bb4b83c44378",
   "metadata": {},
   "source": [
    "## Comandos básicos de Linux en DevCloud\n",
    "\n",
    "- `ls`: revisar el contenido de un directorio\n",
    "- `pwd`: obtener la ruta de un directorio\n",
    "- `nano [archivo]`: abrir un archivo y modificarlo\n",
    "- `cd [directory-name]`: ir al directorio\n",
    "- `cd ..`: ir al nivel superior (en el sistema de archivos)\n",
    "- `cd -`: regresar al directorio anterior\n",
    "- `mkdir [-option] [directory-name]`: crear una nueva carpeta\n",
    "- `touch [-option] [file-name]`: crear un archivo nuevo\n",
    "- `rmdir [-option] [directory-name]`: remover una carpeta\n",
    "- `rm [-option] [file-name]`: remover un archivo\n",
    "- `scp <FILE_NAME> devcloud:<PATH_TO_DESTINATION>`: subir un archivo desde directorio local hacia DevCloud\n",
    "- `scp devcloud:<PATH_TO_FILE>/<FILE_NAME> .(dirección)`: descargar un archivo desde DevCloud hacia directorio local\n",
    "- `qsub ejemplo.sh`: ejecutar un job\n",
    "- `qstat`: explorar el estado de un job\n",
    "- `qdel 1875938.v-qsvr-1`: cancelar un job especifico\n",
    "- `qsub -I`: iniciar una sesion interactiva en un nodo de computo. **Recomendacion: no trabajar en el nodo de login de DevCloud**\n",
    "\n",
    "![alt text](./Figures/install_8.png)\n",
    "\n",
    "Alternativamente, cuando accedemos al terminal a traves de Jupyter lab, ya se nos asigna un nodo de computo. \n",
    "\n",
    "![alt text](./Figures/install_9.png)\n",
    "\n",
    "En caso tengamos que acceder nodos con características específicas y que estén libres, podemos usar el comando `pbsnodes`."
   ]
  },
  {
   "cell_type": "markdown",
   "id": "3a0f8a5f-d894-451f-ab55-3f3bc6d7c54d",
   "metadata": {},
   "source": [
    "## Referencias:\n",
    " \n",
    " - https://www.intel.com/content/www/us/en/developer/videos/what-is-the-intel-devcloud.html#gs.q2hz4q\n",
    " - https://devcloud.intel.com/oneapi/documentation/connect-with-ssh-windows-cygwin"
   ]
  }
 ],
 "metadata": {
  "kernelspec": {
   "display_name": "Python 3 (Intel® oneAPI 2023.2)",
   "language": "python",
   "name": "c009-intel_distribution_of_python_3_oneapi-beta05-python"
  },
  "language_info": {
   "codemirror_mode": {
    "name": "ipython",
    "version": 3
   },
   "file_extension": ".py",
   "mimetype": "text/x-python",
   "name": "python",
   "nbconvert_exporter": "python",
   "pygments_lexer": "ipython3",
   "version": "3.9.16"
  }
 },
 "nbformat": 4,
 "nbformat_minor": 5
}
