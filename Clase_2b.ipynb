{
 "cells": [
  {
   "cell_type": "markdown",
   "id": "71cdb3be-fe00-4c51-9a64-6f63e744ac53",
   "metadata": {},
   "source": [
    "# Ejecutar un Job\n",
    "\n",
    "Es posible trabajar en DevCloud o en cualquier otro cluster de alta performancia usando el modo _interactivo_. Sin embargo, algunas veces los projectos en los que trabajamos requieren muchos recursos que no están disponibles en un momento dado. Para ello podemos usar modo _batch_, en el cual uno puede iniciar la ejecucion de **Jobs** para completar tareas. Esto puede pensarse como hacer una cola en el banco y esperar tu turno para hacer tu trámite. Hacemos nuestra cola con la tarea a ser ejecutada y esperamos hasta que los recursos sean liberados.\n",
    "\n",
    "![alt text](job_1.png)"
   ]
  },
  {
   "cell_type": "markdown",
   "id": "e87c718d-8348-4b5b-8b16-9ea55e586e48",
   "metadata": {},
   "source": [
    "## Ejemplo de Job 1: Hello World en C\n",
    "\n",
    "- `writefile` permite escribir y guardar un código fuente usando la interfaz de Jupyter Notebooks. Dado que queremos escribir un archivo fuente en C++, vamos a colocar luego de `writefile` el nombre de nuestro archivo con la extensión *.cpp*.\n",
    "- Para inicializar el archivo, debemos de usar en el inicio `#include <stdio.h>` que indica al compilador insertar el contenido de la librería estandar `stdio` en el archivo fuente que estamos creando.\n",
    "- Finalmente escribimos el cuerpo de la función *hello world*: `int main` indica que nuestra función debe regresar un valor integer al final de la ejecución del programa. Por ello, como buena práctica terminamos el código con `return 0;`. La función `printf` viene del término en inglés imprimir con formato \"print formatted\" e imprime un string o conjunto de caracteres en C. Para mayor información, visitar el siguiente [enlace](https://cplusplus.com/reference/cstdio/printf/)."
   ]
  },
  {
   "cell_type": "code",
   "execution_count": 1,
   "id": "42b74530-00e7-40f5-9265-793908f1b3bb",
   "metadata": {},
   "outputs": [
    {
     "name": "stdout",
     "output_type": "stream",
     "text": [
      "Writing hello_A.cpp\n"
     ]
    }
   ],
   "source": [
    "%%writefile hello_A.cpp\n",
    "\n",
    "#include <stdio.h>\n",
    "\n",
    "int main()\n",
    "{\n",
    "    printf(\"Hello World\");\n",
    "\n",
    "    return 0;\n",
    "}"
   ]
  },
  {
   "cell_type": "markdown",
   "id": "4e9daa66-9248-4f93-9316-e73dce055e56",
   "metadata": {},
   "source": [
    "Hemos producido el archivo vuente **hello_A.cpp** y ahora tenemos que compilar (porque es un archivo de C y al compilar producimos el archivo binario o ejecutable) y ejecutar (se ejecuta el archivo binario o ejecutable). Vamos a usar el compilador `dpcpp` que es el compilador de INTEL. Para ello creamos un nuevo archivo bash de extensión *.pbs*. Este archivo es que va a incluir el detalle de los recursos que requerimos para ejecutar o en este caso compilar y ejecutar nuestro archvio **hello_a.cpp**. \n",
    "\n",
    "En la siguiente figura vamos a ver el detalle de los componentes de un archivo bash para ejecutar un job:\n",
    "\n",
    "![alt text](job_2.png)\n",
    "\n",
    "**Qué hace y cómo funciona el compilador `dpcpp`**:\n",
    "\n",
    "El `dpcpp` crea el archivo binario o ejecutable. Luego de colocar el comando `dpcpp`, le sige el primer flag `-o` que nos indica que lo que sigue el nombre que le vamos a dar al archivo binario y la ubicación. En este caso, nosotros le llamaremos *hello_A* y lo almacenaremos en nuestra carpeta de trabajo. Podemos colocar la ubicación absoluta usando `pwd` en el terminal o la relativa usando `HOME`. Seguidamente, tenemos la la ruta dónde se encuentra el archivo fuente *.cpp* (absoluta o relativa). Finalmente, ejecutamos el archivo binario recientemente creado *hello_A*, sin olvidar dar su ubicación. "
   ]
  },
  {
   "cell_type": "code",
   "execution_count": 6,
   "id": "dfc4cdcd-e032-4c9b-8f5a-374c44f2ea9e",
   "metadata": {},
   "outputs": [
    {
     "name": "stdout",
     "output_type": "stream",
     "text": [
      "Overwriting compi_A.pbs\n"
     ]
    }
   ],
   "source": [
    "%%writefile compi_A.pbs\n",
    "#PBS -S /bin/bash\n",
    "#\n",
    "#PBS -N hello\n",
    "#PBS -l nodes=1,walltime=00:05:00\n",
    "#\n",
    "dpcpp -o $HOME/CPAR-INTRO/hello_A $HOME/CPAR-INTRO/hello_A.cpp\n",
    "\n",
    "$HOME/CPAR-INTRO/hello_A"
   ]
  },
  {
   "cell_type": "markdown",
   "id": "61088904-286b-4690-89fc-e2c44c6e0bac",
   "metadata": {},
   "source": [
    "Para poder realizar la tarea explicada en *compi_A.pbs*, vamos a usar el comando `qsub` que nos indica que estamos subiendo un job. Si se ejecuta directamente en Jupyter Lab y no en el terminal de DevCloud, se debe iniciar usar `!qsub`: "
   ]
  },
  {
   "cell_type": "code",
   "execution_count": 7,
   "id": "9a20dc14-53dd-4f3c-b2ce-975aacbf497e",
   "metadata": {},
   "outputs": [
    {
     "name": "stdout",
     "output_type": "stream",
     "text": [
      "2339933.v-qsvr-1.aidevcloud\n"
     ]
    }
   ],
   "source": [
    "!qsub compi_A.pbs"
   ]
  },
  {
   "cell_type": "markdown",
   "id": "16161cd8-7eb7-4629-aa58-1a9d10f2c3bf",
   "metadata": {},
   "source": [
    "Para ver el status del job, usar `qstat`. El primer resultado es un job interactivo donde estamos ejecutando jupyter lab, y el segundo es nuestro archivo denominado hello3: "
   ]
  },
  {
   "cell_type": "code",
   "execution_count": 9,
   "id": "9634c391-5905-4a6c-b27b-d99997602077",
   "metadata": {},
   "outputs": [
    {
     "name": "stdout",
     "output_type": "stream",
     "text": [
      "Job ID                    Name             User            Time Use S Queue\n",
      "------------------------- ---------------- --------------- -------- - -----\n",
      "2339831.v-qsvr-1           ...ub-singleuser u196481         00:00:29 R jupyterhub     \n",
      "2339933.v-qsvr-1           hello            u196481                0 R batch          \n"
     ]
    }
   ],
   "source": [
    "!qstat"
   ]
  },
  {
   "cell_type": "markdown",
   "id": "e1c7c674-be9c-486b-bf61-7f887b6fa6b7",
   "metadata": {},
   "source": [
    "El resultado del job se visualiza en el archivo de extensión *.oxxxx*: \n",
    "\n",
    "![alt text](job_3.png)\n",
    "\n",
    "Cualquier error que uno hay encontrado se visualiza en el archivo de extensión *.exxxx*:\n",
    "\n",
    "![alt text](job_4.png)"
   ]
  },
  {
   "cell_type": "markdown",
   "id": "44609848-34f0-46f4-b1f7-c138e31e2f4b",
   "metadata": {},
   "source": [
    "## Ejemplo de Job2: Curva seno en python\n",
    "\n",
    "Del mismo modo que *Hello World* creamos un archivo esta vez de extensión *.py*. En este archivo lo que queremos es crear la curva seno y plotearla. Para ello cargamos las librerías *numpy* y *matplotlib*. Luego creamos un vector x y aplicamos la función *seno*. Finalmente, plotamos y guardamos el archivo con el nombre sen_curva"
   ]
  },
  {
   "cell_type": "code",
   "execution_count": 28,
   "id": "11ac3284-0b77-4c81-8aa5-695ef0dc97dd",
   "metadata": {},
   "outputs": [
    {
     "name": "stdout",
     "output_type": "stream",
     "text": [
      "Writing sen_curva.py\n"
     ]
    }
   ],
   "source": [
    "%%writefile sen_curva.py\n",
    "\n",
    "import numpy as np\n",
    "import matplotlib\n",
    "import matplotlib.pyplot as plt\n",
    "\n",
    "x = np.arange(2*np.pi,10*np.pi,0.1)   # inicio,final,intervalo\n",
    "y = np.sin(x)\n",
    "\n",
    "fig = plt.figure()\n",
    "plt.plot(x,y)\n",
    "plt.savefig(\"/home/u196481/CPAR-INTRO/sen_curva.png\", dpi = 72)\n",
    "plt.close(fig)"
   ]
  },
  {
   "cell_type": "markdown",
   "id": "6ce9f50a-3df5-48f0-8b92-ca02b20ea09e",
   "metadata": {},
   "source": [
    "Luego creamos el archivo que contendrá el job que queremos subir. La diferencia con el archivo anterior es que aquí es que estamos abriendo **python** y dentro de **python**, ejecutando el archivo **sen_curva**. Nota: No olvidar la ubicación del archivo. "
   ]
  },
  {
   "cell_type": "code",
   "execution_count": 29,
   "id": "9ecef02b-c904-4c6d-9464-260218a8229f",
   "metadata": {},
   "outputs": [
    {
     "name": "stdout",
     "output_type": "stream",
     "text": [
      "Writing compi_py.pbs\n"
     ]
    }
   ],
   "source": [
    "%%writefile compi_py.pbs\n",
    "#PBS -S /bin/bash\n",
    "#\n",
    "#PBS -N curva_seno\n",
    "#PBS -l nodes=1,walltime=00:05:00\n",
    "#\n",
    "\n",
    "python /home/u196481/CPAR-INTRO/sen_curva.py"
   ]
  },
  {
   "cell_type": "code",
   "execution_count": 30,
   "id": "59373c7f-fc24-49a3-bb5a-d795942af680",
   "metadata": {},
   "outputs": [
    {
     "name": "stdout",
     "output_type": "stream",
     "text": [
      "2339955.v-qsvr-1.aidevcloud\n"
     ]
    }
   ],
   "source": [
    "!qsub compi_py.pbs"
   ]
  },
  {
   "cell_type": "code",
   "execution_count": 31,
   "id": "0c6690ac-4b13-41dc-b426-de0ee502d62a",
   "metadata": {},
   "outputs": [
    {
     "name": "stdout",
     "output_type": "stream",
     "text": [
      "Job ID                    Name             User            Time Use S Queue\n",
      "------------------------- ---------------- --------------- -------- - -----\n",
      "2339831.v-qsvr-1           ...ub-singleuser u196481         00:00:44 R jupyterhub     \n",
      "2339955.v-qsvr-1           curva_seno       u196481                0 R batch          \n"
     ]
    }
   ],
   "source": [
    "!qstat"
   ]
  },
  {
   "cell_type": "markdown",
   "id": "0c25f462-b31b-44b7-b709-bf14b7934f0d",
   "metadata": {},
   "source": [
    "Si todo es correcto, tendremos un archivo de extensión .*png* cómo resultado:\n",
    "\n",
    "![alt text](job_5.png)"
   ]
  }
 ],
 "metadata": {
  "kernelspec": {
   "display_name": "Python 3 (Intel® oneAPI 2023.1)",
   "language": "python",
   "name": "c009-intel_distribution_of_python_3_oneapi-beta05-python"
  },
  "language_info": {
   "codemirror_mode": {
    "name": "ipython",
    "version": 3
   },
   "file_extension": ".py",
   "mimetype": "text/x-python",
   "name": "python",
   "nbconvert_exporter": "python",
   "pygments_lexer": "ipython3",
   "version": "3.9.16"
  }
 },
 "nbformat": 4,
 "nbformat_minor": 5
}
